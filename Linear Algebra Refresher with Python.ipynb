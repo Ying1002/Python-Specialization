{
 "cells": [
  {
   "cell_type": "code",
   "execution_count": 100,
   "metadata": {},
   "outputs": [],
   "source": [
    "from math import sqrt,acos,pi\n",
    "from decimal import Decimal,getcontext\n",
    "\n",
    "getcontext().prec=30\n",
    "\n",
    "class Vector(object):\n",
    "    def __init__(self, coordinates):\n",
    "        try:\n",
    "            if not coordinates:\n",
    "                raise ValueError\n",
    "            self.coordinates = tuple([Decimal(x) for x in coordinates])\n",
    "            self.dimension = len(coordinates)\n",
    "            \n",
    "        except ValueError:\n",
    "            raise ValueError(\"The coordinates must be nonempty\")\n",
    "            \n",
    "        except TypeError:\n",
    "            raise TypeError(\"The coordinates must be an iterable\")\n",
    "            \n",
    "    def __str__(self):\n",
    "        return \"Vector: {}\".format(self.coordinates)\n",
    "    \n",
    "    def __eq__(self,v):\n",
    "        return self.coordinates == v.coordinates\n",
    "            \n",
    "    def plus (self,v):\n",
    "        new_coordinates=[x+y for x,y in zip(self.coordinates, v.coordinates)]\n",
    "        return Vector(new_coordinates)\n",
    "\n",
    "    def minus (self,v):\n",
    "        new_coordinates=[x-y for x,y in zip(self.coordinates, v.coordinates)]\n",
    "        return Vector(new_coordinates)\n",
    "\n",
    "    def times_scalar(self,c):\n",
    "        new_coordinates=[x*Decimal(c) for x in self.coordinates]\n",
    "        return Vector(new_coordinates)\n",
    "    \n",
    "    def magnitude(self):\n",
    "        coordinates_squared=[x**2 for x in self.coordinates]\n",
    "        return Decimal(sqrt(sum(coordinates_squared)))\n",
    "    \n",
    "    def normalized(self):\n",
    "        try:\n",
    "            magnitude=self.magnitude()\n",
    "            return self.times_scalar(Decimal(\"1.0\")/magnitude)\n",
    "        except ZeroDivisionError:\n",
    "            raise Exception (\"can't normalize the zero vector\")\n",
    "    \n",
    "    def dot(self,v):\n",
    "        return sum([x*y for x,y in zip(self.coordinates, v.coordinates)])\n",
    "    \n",
    "    def angle_with(self,v,in_degrees=False):\n",
    "        try:\n",
    "            u1=self.normalized()\n",
    "            u2=v.normalized()\n",
    "            angle_in_radians = acos(u1.dot(u2))\n",
    "            \n",
    "            if in_degrees:\n",
    "                degrees_per_radian=180./pi\n",
    "                return angle_in_radians*degrees_per_radian\n",
    "            else:\n",
    "                return angle_in_radians   \n",
    "        except Exception as e:\n",
    "            if str(e)==self.CANNOT_NORMALIZE_ZERO_VECTOR_MSG:\n",
    "                raise Exception(\"cannot compute an angle with the zero vector\")\n",
    "            else: raise e\n",
    "                \n",
    "    def is_orthogonal_to(self, v, tolerance=1e-10):\n",
    "        return abs(self.dot(v)) < tolerance\n",
    "    \n",
    "    def is_parallel_to(self,v):\n",
    "        return (self.is_zero() or v.is_zero() or\n",
    "                 self.angle_with(v)==0 or self.angle_with(v)==pi)\n",
    "    \n",
    "    def is_zero(self, tolerance=1e-10):\n",
    "        return self.magnitude()<tolerance\n",
    "    \n",
    "    def component_parallel_to(self,basis):\n",
    "        try:\n",
    "            u=basis.normalized()\n",
    "            weight=self.dot(u)\n",
    "            return u.times_scalar(weight)\n",
    "              \n",
    "        except Exception as e:\n",
    "            if str(e)==self.CANNOT_NORMALIZE_ZERO_VECTOR_MSG:\n",
    "                raise Exception(self.NO_UNIQUE_PARALLEL_COMPONENT_MSG)\n",
    "            else: raise e\n",
    "                \n",
    "    def component_orthogonal_to(self,basis):\n",
    "        try:\n",
    "            projection=self.component_parallel_to(basis)\n",
    "            return self.minus(projection)\n",
    "              \n",
    "        except Exception as e:\n",
    "            if str(e)==self.NO_UNIQUE_PARALLEL_COMPONENT_MSG:\n",
    "                raise Exception(self.NO_UNIQUE_ORTHOGONAL_COMPONENT_MSG)\n",
    "            else: raise e\n",
    "    \n",
    "    def cross(self,v):\n",
    "        try:\n",
    "            x_1,y_1,z_1=self.coordinates\n",
    "            x_2,y_2,z_2=v.coordinates\n",
    "            new_coordinates=[y_1*z_2-y_2*z_1,\n",
    "                             -(x_1*z_2-x_2*z_1),\n",
    "                             x_1*y_2-x_2*y_1]\n",
    "            return Vector(new_coordinates)\n",
    "        except ValueError as e:\n",
    "            msg=str(e)\n",
    "            if msg==\"need more than 2 values to unpack\":\n",
    "                self_embedded_in_R3=Vector(self.coordinates+(\"0\",))\n",
    "                v_embedded_in_R3=Vector(v.coordinates+(\"0\",))\n",
    "                return self_embedded_in_R3.cross(v_embedded_in_R3)\n",
    "            elif (msg==\"too many values to unpack\" or msg==\"need more than 1 value to unpack\"):\n",
    "                raise Exception (self.ONLY_DEFINED_IN_TWO_THREE_DIMS_MSG)\n",
    "            else: raise e\n",
    "                \n",
    "    def area_of_parallelogram_with(self,v):\n",
    "        cross_product=self.cross(v)\n",
    "        return cross_product.magnitude()\n",
    "    \n",
    "    def area_of_triangle_with(self,v):\n",
    "        return self.area_of_parallelogram_with(v)/Decimal(\"2.0\")"
   ]
  },
  {
   "cell_type": "code",
   "execution_count": 53,
   "metadata": {},
   "outputs": [],
   "source": [
    "sample= zip([1,2,3],[2,3])"
   ]
  },
  {
   "cell_type": "code",
   "execution_count": 55,
   "metadata": {},
   "outputs": [
    {
     "data": {
      "text/plain": [
       "<zip at 0x4a1b436bc8>"
      ]
     },
     "execution_count": 55,
     "metadata": {},
     "output_type": "execute_result"
    }
   ],
   "source": [
    "sample"
   ]
  },
  {
   "cell_type": "code",
   "execution_count": 101,
   "metadata": {},
   "outputs": [],
   "source": [
    "my_vector=Vector([1,2,3])\n",
    "w=Vector([1,-2,4])\n"
   ]
  },
  {
   "cell_type": "code",
   "execution_count": 102,
   "metadata": {},
   "outputs": [
    {
     "name": "stdout",
     "output_type": "stream",
     "text": [
      "14.5945195193264236621644158731214702129364013671875\n"
     ]
    }
   ],
   "source": [
    "print (my_vector.area_of_parallelogram_with(w))"
   ]
  },
  {
   "cell_type": "code",
   "execution_count": 87,
   "metadata": {},
   "outputs": [
    {
     "name": "stdout",
     "output_type": "stream",
     "text": [
      "Vector: (Decimal('0.267261241912424388690952378529'), Decimal('0.534522483824848777381904757058'), Decimal('0.801783725737273166072857135587'))\n"
     ]
    }
   ],
   "source": [
    "print (my_vector.normalized())"
   ]
  },
  {
   "cell_type": "code",
   "execution_count": 88,
   "metadata": {},
   "outputs": [
    {
     "name": "stdout",
     "output_type": "stream",
     "text": [
      "Vector: (Decimal('2'), Decimal('4'), Decimal('6'))\n"
     ]
    }
   ],
   "source": [
    "print (my_vector.times_scalar(2))"
   ]
  },
  {
   "cell_type": "code",
   "execution_count": 93,
   "metadata": {},
   "outputs": [
    {
     "name": "stdout",
     "output_type": "stream",
     "text": [
      "58.33911722540479\n"
     ]
    }
   ],
   "source": [
    "print (my_vector.angle_with(w,in_degrees=True))"
   ]
  },
  {
   "cell_type": "code",
   "execution_count": 2,
   "metadata": {},
   "outputs": [],
   "source": [
    "from decimal import Decimal, getcontext\n",
    "\n",
    "getcontext().prec = 30\n",
    "\n",
    "\n",
    "class Line(object):\n",
    "\n",
    "    NO_NONZERO_ELTS_FOUND_MSG = 'No nonzero elements found'\n",
    "\n",
    "    def __init__(self, normal_vector=None, constant_term=None):\n",
    "        self.dimension = 2\n",
    "\n",
    "        if not normal_vector:\n",
    "            all_zeros = ['0']*self.dimension\n",
    "            normal_vector = Vector(all_zeros)\n",
    "        self.normal_vector = normal_vector\n",
    "\n",
    "        if not constant_term:\n",
    "            constant_term = Decimal('0')\n",
    "        self.constant_term = Decimal(constant_term)\n",
    "\n",
    "        self.set_basepoint()\n",
    "\n",
    "\n",
    "    def set_basepoint(self):\n",
    "        try:\n",
    "            n = self.normal_vector\n",
    "            c = self.constant_term\n",
    "            basepoint_coords = ['0']*self.dimension\n",
    "\n",
    "            initial_index = Line.first_nonzero_index(n)\n",
    "            initial_coefficient = n[initial_index]\n",
    "\n",
    "            basepoint_coords[initial_index] = c/initial_coefficient\n",
    "            self.basepoint = Vector(basepoint_coords)\n",
    "\n",
    "        except Exception as e:\n",
    "            if str(e) == Line.NO_NONZERO_ELTS_FOUND_MSG:\n",
    "                self.basepoint = None\n",
    "            else:\n",
    "                raise e\n",
    "\n",
    "\n",
    "    def __str__(self):\n",
    "\n",
    "        num_decimal_places = 3\n",
    "\n",
    "        def write_coefficient(coefficient, is_initial_term=False):\n",
    "            coefficient = round(coefficient, num_decimal_places)\n",
    "            if coefficient % 1 == 0:\n",
    "                coefficient = int(coefficient)\n",
    "\n",
    "            output = ''\n",
    "\n",
    "            if coefficient < 0:\n",
    "                output += '-'\n",
    "            if coefficient > 0 and not is_initial_term:\n",
    "                output += '+'\n",
    "\n",
    "            if not is_initial_term:\n",
    "                output += ' '\n",
    "\n",
    "            if abs(coefficient) != 1:\n",
    "                output += '{}'.format(abs(coefficient))\n",
    "\n",
    "            return output\n",
    "\n",
    "        n = self.normal_vector\n",
    "\n",
    "        try:\n",
    "            initial_index = Line.first_nonzero_index(n)\n",
    "            terms = [write_coefficient(n[i], is_initial_term=(i==initial_index)) + 'x_{}'.format(i+1)\n",
    "                     for i in range(self.dimension) if round(n[i], num_decimal_places) != 0]\n",
    "            output = ' '.join(terms)\n",
    "\n",
    "        except Exception as e:\n",
    "            if str(e) == self.NO_NONZERO_ELTS_FOUND_MSG:\n",
    "                output = '0'\n",
    "            else:\n",
    "                raise e\n",
    "\n",
    "        constant = round(self.constant_term, num_decimal_places)\n",
    "        if constant % 1 == 0:\n",
    "            constant = int(constant)\n",
    "        output += ' = {}'.format(constant)\n",
    "\n",
    "        return output\n",
    "\n",
    "\n",
    "    @staticmethod\n",
    "    def first_nonzero_index(iterable):\n",
    "        for k, item in enumerate(iterable):\n",
    "            if not MyDecimal(item).is_near_zero():\n",
    "                return k\n",
    "        raise Exception(Line.NO_NONZERO_ELTS_FOUND_MSG)\n",
    "\n",
    "\n",
    "class MyDecimal(Decimal):\n",
    "    def is_near_zero(self, eps=1e-10):\n",
    "        return abs(self) < eps"
   ]
  },
  {
   "cell_type": "code",
   "execution_count": null,
   "metadata": {},
   "outputs": [],
   "source": []
  }
 ],
 "metadata": {
  "kernelspec": {
   "display_name": "Python 3",
   "language": "python",
   "name": "python3"
  },
  "language_info": {
   "codemirror_mode": {
    "name": "ipython",
    "version": 3
   },
   "file_extension": ".py",
   "mimetype": "text/x-python",
   "name": "python",
   "nbconvert_exporter": "python",
   "pygments_lexer": "ipython3",
   "version": "3.6.8"
  }
 },
 "nbformat": 4,
 "nbformat_minor": 2
}
