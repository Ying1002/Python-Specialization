{
 "cells": [
  {
   "cell_type": "code",
   "execution_count": 84,
   "metadata": {},
   "outputs": [],
   "source": [
    "from math import sqrt,acos,pi\n",
    "from decimal import Decimal,getcontext\n",
    "\n",
    "getcontext().prec=30\n",
    "\n",
    "class Vector(object):\n",
    "    def __init__(self, coordinates):\n",
    "        try:\n",
    "            if not coordinates:\n",
    "                raise ValueError\n",
    "            self.coordinates = tuple([Decimal(x) for x in coordinates])\n",
    "            self.dimension = len(coordinates)\n",
    "            \n",
    "        except ValueError:\n",
    "            raise ValueError(\"The coordinates must be nonempty\")\n",
    "            \n",
    "        except TypeError:\n",
    "            raise TypeError(\"The coordinates must be an iterable\")\n",
    "            \n",
    "    def __str__(self):\n",
    "        return \"Vector: {}\".format(self.coordinates)\n",
    "    \n",
    "    def __eq__(self,v):\n",
    "        return self.coordinates == v.coordinates\n",
    "            \n",
    "    def plus (self,v):\n",
    "        new_coordinates=[x+y for x,y in zip(self.coordinates, v.coordinates)]\n",
    "        return Vector(new_coordinates)\n",
    "\n",
    "    def minus (self,v):\n",
    "        new_coordinates=[x-y for x,y in zip(self.coordinates, v.coordinates)]\n",
    "        return Vector(new_coordinates)\n",
    "\n",
    "    def times_scalar(self,c):\n",
    "        new_coordinates=[x*Decimal(c) for x in self.coordinates]\n",
    "        return Vector(new_coordinates)\n",
    "    \n",
    "    def magnitude(self):\n",
    "        coordinates_squared=[x**2 for x in self.coordinates]\n",
    "        return Decimal(sqrt(sum(coordinates_squared)))\n",
    "    \n",
    "    def normalized(self):\n",
    "        try:\n",
    "            magnitude=self.magnitude()\n",
    "            return self.times_scalar(Decimal(\"1.0\")/magnitude)\n",
    "        except ZeroDivisionError:\n",
    "            raise Exception (\"can't normalize the zero vector\")\n",
    "    \n",
    "    def dot(self,v):\n",
    "        return sum([x*y for x,y in zip(self.coordinates, v.coordinates)])\n",
    "    \n",
    "    def angle_with(self,v,in_degrees=False):\n",
    "        try:\n",
    "            u1=self.normalized()\n",
    "            u2=v.normalized()\n",
    "            angle_in_radians = acos(u1.dot(u2))\n",
    "            \n",
    "            if in_degrees:\n",
    "                degrees_per_radian=180./pi\n",
    "                return angle_in_radians*degrees_per_radian\n",
    "            else:\n",
    "                return angle_in_radians   \n",
    "        except Exception as e:\n",
    "            if str(e)==self.CANNOT_NORMALIZE_ZERO_VECTOR_MSG:\n",
    "                raise Exception(\"cannot compute an angle with the zero vector\")\n",
    "            else: raise e\n",
    "          \n",
    "            "
   ]
  },
  {
   "cell_type": "code",
   "execution_count": 53,
   "metadata": {},
   "outputs": [],
   "source": [
    "sample= zip([1,2,3],[2,3])"
   ]
  },
  {
   "cell_type": "code",
   "execution_count": 55,
   "metadata": {},
   "outputs": [
    {
     "data": {
      "text/plain": [
       "<zip at 0x4a1b436bc8>"
      ]
     },
     "execution_count": 55,
     "metadata": {},
     "output_type": "execute_result"
    }
   ],
   "source": [
    "sample"
   ]
  },
  {
   "cell_type": "code",
   "execution_count": 90,
   "metadata": {},
   "outputs": [],
   "source": [
    "my_vector=Vector([1,2,3])\n",
    "w=Vector([1,-2,4])\n"
   ]
  },
  {
   "cell_type": "code",
   "execution_count": 94,
   "metadata": {},
   "outputs": [
    {
     "name": "stdout",
     "output_type": "stream",
     "text": [
      "9\n"
     ]
    }
   ],
   "source": [
    "print (my_vector.dot(w))"
   ]
  },
  {
   "cell_type": "code",
   "execution_count": 87,
   "metadata": {},
   "outputs": [
    {
     "name": "stdout",
     "output_type": "stream",
     "text": [
      "Vector: (Decimal('0.267261241912424388690952378529'), Decimal('0.534522483824848777381904757058'), Decimal('0.801783725737273166072857135587'))\n"
     ]
    }
   ],
   "source": [
    "print (my_vector.normalized())"
   ]
  },
  {
   "cell_type": "code",
   "execution_count": 88,
   "metadata": {},
   "outputs": [
    {
     "name": "stdout",
     "output_type": "stream",
     "text": [
      "Vector: (Decimal('2'), Decimal('4'), Decimal('6'))\n"
     ]
    }
   ],
   "source": [
    "print (my_vector.times_scalar(2))"
   ]
  },
  {
   "cell_type": "code",
   "execution_count": 93,
   "metadata": {},
   "outputs": [
    {
     "name": "stdout",
     "output_type": "stream",
     "text": [
      "58.33911722540479\n"
     ]
    }
   ],
   "source": [
    "print (my_vector.angle_with(w,in_degrees=True))"
   ]
  },
  {
   "cell_type": "code",
   "execution_count": null,
   "metadata": {},
   "outputs": [],
   "source": []
  }
 ],
 "metadata": {
  "kernelspec": {
   "display_name": "Python 3",
   "language": "python",
   "name": "python3"
  },
  "language_info": {
   "codemirror_mode": {
    "name": "ipython",
    "version": 3
   },
   "file_extension": ".py",
   "mimetype": "text/x-python",
   "name": "python",
   "nbconvert_exporter": "python",
   "pygments_lexer": "ipython3",
   "version": "3.6.8"
  }
 },
 "nbformat": 4,
 "nbformat_minor": 2
}
